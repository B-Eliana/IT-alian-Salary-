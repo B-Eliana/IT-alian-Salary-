{
 "cells": [
  {
   "cell_type": "code",
   "execution_count": 97,
   "id": "179352d6-92ad-4cc1-8ded-c8468c61efa2",
   "metadata": {},
   "outputs": [],
   "source": [
    "def quote(RAL):\n",
    "    # Calculating Imposta sul reddito delle persone fisiche IRPEF\n",
    "    if RAL <= 28000: #the first tax sector is set to the 23% of the reddit until a ral of 28000 (which has the max tax of 6440)\n",
    "        quote = (RAL / 100) * 23\n",
    "    elif RAL <= 50000: \n",
    "        #the second tax sector is set to the 35% of the reddit that exceeds the first sector \n",
    "        #(to the max tax of 6440 till 28000, a 35%need to be added for the exeeding reddit)\n",
    "        percentage = ((RAL - 28000) / 100) * 35\n",
    "        quote = 6440 + percentage\n",
    "    else:\n",
    "         #the second tax sector is set to the 35% of the reddit that exceeds the first sector \n",
    "        #(to the max tax of 6440 till 28000, a 35%need to be added for the exeeding reddit)\n",
    "        percentage = ((RAL - 50000) / 100) * 43\n",
    "        quote = 14140 + percentage\n",
    "    return quote  # returns IRPEF quote"
   ]
  },
  {
   "cell_type": "code",
   "execution_count": 99,
   "id": "148f7be6-2b98-49eb-9b24-f92acf219ae0",
   "metadata": {},
   "outputs": [],
   "source": [
    "# calculator for esteemed italian net salary\n",
    "def net_of_irpef(RAL):\n",
    "    quote_value = quote(RAL)  # Use the quote function to get the IRPEF quote\n",
    "    net_of_irpef = RAL - quote_value  # Calculate net salary after IRPEF\n",
    "    return net_of_irpef\n",
    " # returns net reddit after IRPEF"
   ]
  },
  {
   "cell_type": "code",
   "execution_count": 101,
   "id": "92e1b6c3-1ed6-4e79-a345-56411388e13c",
   "metadata": {},
   "outputs": [],
   "source": [
    "def end_of_month(RAL, monthly_payment):\n",
    "    net_income = net_of_irpef(RAL)  # Get net salary by calling net_of_irpef\n",
    "    gross_monthly_reddit = round((net_income / monthly_payment),2)  # Calculate gross monthly revenue\n",
    "    return gross_monthly_reddit"
   ]
  },
  {
   "cell_type": "code",
   "execution_count": 107,
   "id": "955d8b01-bde9-4418-b876-64f340bdc262",
   "metadata": {},
   "outputs": [
    {
     "data": {
      "text/plain": [
       "2555.0"
      ]
     },
     "execution_count": 107,
     "metadata": {},
     "output_type": "execute_result"
    }
   ],
   "source": [
    "end_of_month(42000,12)"
   ]
  },
  {
   "cell_type": "code",
   "execution_count": null,
   "id": "d5a1327f-b998-4581-a317-1a646ff7f50b",
   "metadata": {},
   "outputs": [],
   "source": []
  }
 ],
 "metadata": {
  "kernelspec": {
   "display_name": "Python 3 (ipykernel)",
   "language": "python",
   "name": "python3"
  },
  "language_info": {
   "codemirror_mode": {
    "name": "ipython",
    "version": 3
   },
   "file_extension": ".py",
   "mimetype": "text/x-python",
   "name": "python",
   "nbconvert_exporter": "python",
   "pygments_lexer": "ipython3",
   "version": "3.12.4"
  }
 },
 "nbformat": 4,
 "nbformat_minor": 5
}
